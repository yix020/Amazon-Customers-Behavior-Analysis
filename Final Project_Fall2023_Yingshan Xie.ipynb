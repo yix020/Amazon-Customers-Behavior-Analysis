{
 "cells": [
  {
   "cell_type": "markdown",
   "metadata": {
    "id": "t1wBGmhjARgQ"
   },
   "source": [
    "# DSE 207R FINAL PROJECT\n",
    "## Fall 2023\n",
    "### Due Date:  December 12th, 2023"
   ]
  },
  {
   "cell_type": "markdown",
   "metadata": {
    "id": "XtumikzTARgU"
   },
   "source": [
    "The final project is a guided project for you to build your own end-to-end analysis using Python, especially using what you learned on Python _numpy_, _pandas_, _matplotlib_/_seaborn_ and _scilitlearn_ libraries.\n",
    "\n",
    "This project is culmination of all you’ve learned in this course! You should expect to spend <b>24-32 total hours</b> on the project. Be sure to read all of the items below before starting. Make sure to follow Slack for any updates on the final project.\n",
    "\n",
    "# <b>Deliverables</b>:\n",
    "The final project has 2 submissions - a report(this notebook) and an presentation video(self recorded). You will be evaluated on both the components.\n",
    "\n",
    "## 1. Report (this notebook)\n",
    "Submit the notebook via Gradescope by midnight on the due date above along with clear instructions on how to download the datasets you used for and reproduce your results. You can host the dataset(on github) such that it can be used as a url directly. Don't forget to add your name on top as the author of the notebook.\n",
    "\n"
   ]
  },
  {
   "cell_type": "markdown",
   "metadata": {
    "id": "1Zka4TKuARgZ"
   },
   "source": [
    "There are a number of steps outlined below, but is critical that you do not view this as an entirely linear process.  Remember that the science component in data science is the creation of a hypothesis based on exploration and testing of that hypothesis through analysis.  You may need to go through many of these steps multiple times before you arrive at meaningful hypothesis or conclusions."
   ]
  },
  {
   "cell_type": "markdown",
   "metadata": {
    "id": "ESRMBfD4ARga"
   },
   "source": [
    "### Step 1: Find a dataset or datasets\n",
    "\n",
    "1.1. **Based on your interest, identify a dataset which you will want to examine.**  You will find a starting point for where you can find open datasets at the end of this notebook, but feel free to use other datasets you have access to and can publicly share results about.\n",
    "\n",
    "\n",
    "This step may take some time, as you’ll likely look at a number of datasets before you find one (or more) which holds promising data for the kinds of questions you want to ask.\n",
    "\n",
    "Below are some resources but you are not limited to them -\n",
    "\n",
    "UCI's Machine Learning Repository: https://archive.ics.uci.edu/ml/datasets.php <br>\n",
    "Kaggle: https://www.kaggle.com/datasets <br>\n",
    "KDnuggets Dataset: http://www.kdnuggets.com/datasets/index.html <br>\n",
    "government data (http://www.kdnuggets.com/datasets/government-local-public.html) <br>\n",
    "Data APIs (http://www.kdnuggets.com/datasets/api-hub-marketplace-platform.html <br>\n",
    "Data Mining Competitions (http://www.kdnuggets.com/competitions/index.html <br>\n",
    "US Government Data: https://www.data.gov/ <br>\n",
    "UK Government Data: https://data.gov.uk/ <br>\n",
    "Canada's Open Data Exchange: https://codx.ca/ <br>\n",
    "World Health Organization: http://www.who.int/gho/en <br>\n",
    "World Bank: http://data.worldbank.org/ <br>\n",
    "\n",
    "Remember! Finding a dataset of interest and exploring it is most of your job for your final project. So expect this to take some time - and that's both perfectly normal and completely okay. Get started early and make sure to check if the dataset you find satisfies the project requirements.\n",
    "<br>\n",
    "\n",
    "<br>\n",
    "\n",
    "1.2. **Once selected, explain the choice of dataset and why you want to work with it.**"
   ]
  },
  {
   "cell_type": "markdown",
   "metadata": {
    "id": "Y9czVSwaARga"
   },
   "source": [
    "This dataset is curated for delving into the behavioral analysis of Amazon's consumers, offering an expansive collection of customer interactions and browsing patterns within the Amazon ecosystem. It encompasses a diverse array of variables, incorporating customer demographics, user interactions, and reviews. The primary goal of this dataset is to uncover insights into customer preferences, shopping habits, and the decision-making processes prevalent on the Amazon platform.\n",
    "\n",
    "I chose this dataset due to its relevance to my interest in understanding customer behavior. Its accessibility and comprehensive nature, covering various variables, made it an ideal choice. The dataset encompasses critical aspects like customer behaviors, preferences, satisfaction levels, and reviews, offering valuable insights into Amazon's customer base. Analyzing such data could significantly contribute to understanding evolving consumer trends and behaviors. Furthermore, these insights hold the potential to benefit multiple domains, including academic research, business strategies, marketing endeavors, and enhancing customer relationship management. This dataset forms the foundation of my data analysis project, aimed at exploring and deriving meaningful conclusions about customer behavior within the Amazon ecosystem."
   ]
  },
  {
   "cell_type": "markdown",
   "metadata": {
    "id": "X8vuRLZ0ARga"
   },
   "source": [
    "### Step 2: Explore the datasets\n",
    "\n",
    "In this step, you should explore what is present in the data and how the data is organized.\n",
    "\n",
    "You are expected to answer the following questions using the _pandas_ library and markdown cells to describe your actions:\n",
    "\n",
    "* Are there quality issues in the dataset (noisy, missing data, etc.)?\n",
    "* What will you need to do to clean and/or transform the raw data for analysis?\n",
    "\n",
    "You can also visually explore the datasets and explain your findings, specifically,\n",
    "\n",
    "* How are the data distributed?\n",
    "* What are some common trends?\n",
    "* What are the relationships between variables in your dataset?"
   ]
  },
  {
   "cell_type": "code",
   "execution_count": 1,
   "metadata": {
    "id": "qfbPYiVKARga"
   },
   "outputs": [],
   "source": [
    "import pandas as pd\n",
    "import numpy as np"
   ]
  },
  {
   "cell_type": "code",
   "execution_count": 2,
   "metadata": {},
   "outputs": [],
   "source": [
    "df=pd.read_csv('/Users/cara/Downloads/Amazon Customer Behavior Survey.csv')"
   ]
  },
  {
   "cell_type": "code",
   "execution_count": 3,
   "metadata": {},
   "outputs": [
    {
     "data": {
      "text/html": [
       "<div>\n",
       "<style scoped>\n",
       "    .dataframe tbody tr th:only-of-type {\n",
       "        vertical-align: middle;\n",
       "    }\n",
       "\n",
       "    .dataframe tbody tr th {\n",
       "        vertical-align: top;\n",
       "    }\n",
       "\n",
       "    .dataframe thead th {\n",
       "        text-align: right;\n",
       "    }\n",
       "</style>\n",
       "<table border=\"1\" class=\"dataframe\">\n",
       "  <thead>\n",
       "    <tr style=\"text-align: right;\">\n",
       "      <th></th>\n",
       "      <th>Timestamp</th>\n",
       "      <th>age</th>\n",
       "      <th>Gender</th>\n",
       "      <th>Purchase_Frequency</th>\n",
       "      <th>Purchase_Categories</th>\n",
       "      <th>Personalized_Recommendation_Frequency</th>\n",
       "      <th>Browsing_Frequency</th>\n",
       "      <th>Product_Search_Method</th>\n",
       "      <th>Search_Result_Exploration</th>\n",
       "      <th>Customer_Reviews_Importance</th>\n",
       "      <th>...</th>\n",
       "      <th>Saveforlater_Frequency</th>\n",
       "      <th>Review_Left</th>\n",
       "      <th>Review_Reliability</th>\n",
       "      <th>Review_Helpfulness</th>\n",
       "      <th>Personalized_Recommendation_Frequency</th>\n",
       "      <th>Recommendation_Helpfulness</th>\n",
       "      <th>Rating_Accuracy</th>\n",
       "      <th>Shopping_Satisfaction</th>\n",
       "      <th>Service_Appreciation</th>\n",
       "      <th>Improvement_Areas</th>\n",
       "    </tr>\n",
       "  </thead>\n",
       "  <tbody>\n",
       "    <tr>\n",
       "      <th>0</th>\n",
       "      <td>2023/06/04 1:28:19 PM GMT+5:30</td>\n",
       "      <td>23</td>\n",
       "      <td>Female</td>\n",
       "      <td>Few times a month</td>\n",
       "      <td>Beauty and Personal Care</td>\n",
       "      <td>Yes</td>\n",
       "      <td>Few times a week</td>\n",
       "      <td>Keyword</td>\n",
       "      <td>Multiple pages</td>\n",
       "      <td>1</td>\n",
       "      <td>...</td>\n",
       "      <td>Sometimes</td>\n",
       "      <td>Yes</td>\n",
       "      <td>Occasionally</td>\n",
       "      <td>Yes</td>\n",
       "      <td>2</td>\n",
       "      <td>Yes</td>\n",
       "      <td>1</td>\n",
       "      <td>1</td>\n",
       "      <td>Competitive prices</td>\n",
       "      <td>Reducing packaging waste</td>\n",
       "    </tr>\n",
       "    <tr>\n",
       "      <th>1</th>\n",
       "      <td>2023/06/04 2:30:44 PM GMT+5:30</td>\n",
       "      <td>23</td>\n",
       "      <td>Female</td>\n",
       "      <td>Once a month</td>\n",
       "      <td>Clothing and Fashion</td>\n",
       "      <td>Yes</td>\n",
       "      <td>Few times a month</td>\n",
       "      <td>Keyword</td>\n",
       "      <td>Multiple pages</td>\n",
       "      <td>1</td>\n",
       "      <td>...</td>\n",
       "      <td>Rarely</td>\n",
       "      <td>No</td>\n",
       "      <td>Heavily</td>\n",
       "      <td>Yes</td>\n",
       "      <td>2</td>\n",
       "      <td>Sometimes</td>\n",
       "      <td>3</td>\n",
       "      <td>2</td>\n",
       "      <td>Wide product selection</td>\n",
       "      <td>Reducing packaging waste</td>\n",
       "    </tr>\n",
       "    <tr>\n",
       "      <th>2</th>\n",
       "      <td>2023/06/04 5:04:56 PM GMT+5:30</td>\n",
       "      <td>24</td>\n",
       "      <td>Prefer not to say</td>\n",
       "      <td>Few times a month</td>\n",
       "      <td>Groceries and Gourmet Food;Clothing and Fashion</td>\n",
       "      <td>No</td>\n",
       "      <td>Few times a month</td>\n",
       "      <td>Keyword</td>\n",
       "      <td>Multiple pages</td>\n",
       "      <td>2</td>\n",
       "      <td>...</td>\n",
       "      <td>Rarely</td>\n",
       "      <td>No</td>\n",
       "      <td>Occasionally</td>\n",
       "      <td>No</td>\n",
       "      <td>4</td>\n",
       "      <td>No</td>\n",
       "      <td>3</td>\n",
       "      <td>3</td>\n",
       "      <td>Competitive prices</td>\n",
       "      <td>Product quality and accuracy</td>\n",
       "    </tr>\n",
       "    <tr>\n",
       "      <th>3</th>\n",
       "      <td>2023/06/04 5:13:00 PM GMT+5:30</td>\n",
       "      <td>24</td>\n",
       "      <td>Female</td>\n",
       "      <td>Once a month</td>\n",
       "      <td>Beauty and Personal Care;Clothing and Fashion;...</td>\n",
       "      <td>Sometimes</td>\n",
       "      <td>Few times a month</td>\n",
       "      <td>Keyword</td>\n",
       "      <td>First page</td>\n",
       "      <td>5</td>\n",
       "      <td>...</td>\n",
       "      <td>Sometimes</td>\n",
       "      <td>Yes</td>\n",
       "      <td>Heavily</td>\n",
       "      <td>Yes</td>\n",
       "      <td>3</td>\n",
       "      <td>Sometimes</td>\n",
       "      <td>3</td>\n",
       "      <td>4</td>\n",
       "      <td>Competitive prices</td>\n",
       "      <td>Product quality and accuracy</td>\n",
       "    </tr>\n",
       "    <tr>\n",
       "      <th>4</th>\n",
       "      <td>2023/06/04 5:28:06 PM GMT+5:30</td>\n",
       "      <td>22</td>\n",
       "      <td>Female</td>\n",
       "      <td>Less than once a month</td>\n",
       "      <td>Beauty and Personal Care;Clothing and Fashion</td>\n",
       "      <td>Yes</td>\n",
       "      <td>Few times a month</td>\n",
       "      <td>Filter</td>\n",
       "      <td>Multiple pages</td>\n",
       "      <td>1</td>\n",
       "      <td>...</td>\n",
       "      <td>Rarely</td>\n",
       "      <td>No</td>\n",
       "      <td>Heavily</td>\n",
       "      <td>Yes</td>\n",
       "      <td>4</td>\n",
       "      <td>Yes</td>\n",
       "      <td>2</td>\n",
       "      <td>2</td>\n",
       "      <td>Competitive prices</td>\n",
       "      <td>Product quality and accuracy</td>\n",
       "    </tr>\n",
       "  </tbody>\n",
       "</table>\n",
       "<p>5 rows × 23 columns</p>\n",
       "</div>"
      ],
      "text/plain": [
       "                        Timestamp  age             Gender  \\\n",
       "0  2023/06/04 1:28:19 PM GMT+5:30   23             Female   \n",
       "1  2023/06/04 2:30:44 PM GMT+5:30   23             Female   \n",
       "2  2023/06/04 5:04:56 PM GMT+5:30   24  Prefer not to say   \n",
       "3  2023/06/04 5:13:00 PM GMT+5:30   24             Female   \n",
       "4  2023/06/04 5:28:06 PM GMT+5:30   22             Female   \n",
       "\n",
       "       Purchase_Frequency                                Purchase_Categories  \\\n",
       "0       Few times a month                           Beauty and Personal Care   \n",
       "1            Once a month                               Clothing and Fashion   \n",
       "2       Few times a month    Groceries and Gourmet Food;Clothing and Fashion   \n",
       "3            Once a month  Beauty and Personal Care;Clothing and Fashion;...   \n",
       "4  Less than once a month      Beauty and Personal Care;Clothing and Fashion   \n",
       "\n",
       "  Personalized_Recommendation_Frequency Browsing_Frequency  \\\n",
       "0                                   Yes   Few times a week   \n",
       "1                                   Yes  Few times a month   \n",
       "2                                    No  Few times a month   \n",
       "3                             Sometimes  Few times a month   \n",
       "4                                   Yes  Few times a month   \n",
       "\n",
       "  Product_Search_Method Search_Result_Exploration  \\\n",
       "0               Keyword            Multiple pages   \n",
       "1               Keyword            Multiple pages   \n",
       "2               Keyword            Multiple pages   \n",
       "3               Keyword                First page   \n",
       "4                Filter            Multiple pages   \n",
       "\n",
       "   Customer_Reviews_Importance  ... Saveforlater_Frequency Review_Left  \\\n",
       "0                            1  ...              Sometimes         Yes   \n",
       "1                            1  ...                 Rarely          No   \n",
       "2                            2  ...                 Rarely          No   \n",
       "3                            5  ...              Sometimes         Yes   \n",
       "4                            1  ...                 Rarely          No   \n",
       "\n",
       "  Review_Reliability Review_Helpfulness  \\\n",
       "0       Occasionally                Yes   \n",
       "1            Heavily                Yes   \n",
       "2       Occasionally                 No   \n",
       "3            Heavily                Yes   \n",
       "4            Heavily                Yes   \n",
       "\n",
       "  Personalized_Recommendation_Frequency  Recommendation_Helpfulness  \\\n",
       "0                                      2                        Yes   \n",
       "1                                      2                  Sometimes   \n",
       "2                                      4                         No   \n",
       "3                                      3                  Sometimes   \n",
       "4                                      4                        Yes   \n",
       "\n",
       "  Rating_Accuracy   Shopping_Satisfaction    Service_Appreciation  \\\n",
       "0                1                      1      Competitive prices   \n",
       "1                3                      2  Wide product selection   \n",
       "2                3                      3      Competitive prices   \n",
       "3                3                      4      Competitive prices   \n",
       "4                2                      2      Competitive prices   \n",
       "\n",
       "              Improvement_Areas  \n",
       "0      Reducing packaging waste  \n",
       "1      Reducing packaging waste  \n",
       "2  Product quality and accuracy  \n",
       "3  Product quality and accuracy  \n",
       "4  Product quality and accuracy  \n",
       "\n",
       "[5 rows x 23 columns]"
      ]
     },
     "execution_count": 3,
     "metadata": {},
     "output_type": "execute_result"
    }
   ],
   "source": [
    "df.head() # read first 5 rows of dataframe."
   ]
  },
  {
   "cell_type": "code",
   "execution_count": 4,
   "metadata": {},
   "outputs": [
    {
     "data": {
      "text/plain": [
       "(602, 23)"
      ]
     },
     "execution_count": 4,
     "metadata": {},
     "output_type": "execute_result"
    }
   ],
   "source": [
    "df.shape # a total 602 enteries and 23 columns"
   ]
  },
  {
   "cell_type": "code",
   "execution_count": 5,
   "metadata": {},
   "outputs": [
    {
     "data": {
      "text/html": [
       "<div>\n",
       "<style scoped>\n",
       "    .dataframe tbody tr th:only-of-type {\n",
       "        vertical-align: middle;\n",
       "    }\n",
       "\n",
       "    .dataframe tbody tr th {\n",
       "        vertical-align: top;\n",
       "    }\n",
       "\n",
       "    .dataframe thead th {\n",
       "        text-align: right;\n",
       "    }\n",
       "</style>\n",
       "<table border=\"1\" class=\"dataframe\">\n",
       "  <thead>\n",
       "    <tr style=\"text-align: right;\">\n",
       "      <th></th>\n",
       "      <th>age</th>\n",
       "      <th>Customer_Reviews_Importance</th>\n",
       "      <th>Personalized_Recommendation_Frequency</th>\n",
       "      <th>Rating_Accuracy</th>\n",
       "      <th>Shopping_Satisfaction</th>\n",
       "    </tr>\n",
       "  </thead>\n",
       "  <tbody>\n",
       "    <tr>\n",
       "      <th>count</th>\n",
       "      <td>602.000000</td>\n",
       "      <td>602.000000</td>\n",
       "      <td>602.000000</td>\n",
       "      <td>602.000000</td>\n",
       "      <td>602.000000</td>\n",
       "    </tr>\n",
       "    <tr>\n",
       "      <th>mean</th>\n",
       "      <td>30.790698</td>\n",
       "      <td>2.480066</td>\n",
       "      <td>2.699336</td>\n",
       "      <td>2.672757</td>\n",
       "      <td>2.463455</td>\n",
       "    </tr>\n",
       "    <tr>\n",
       "      <th>std</th>\n",
       "      <td>10.193276</td>\n",
       "      <td>1.185226</td>\n",
       "      <td>1.042028</td>\n",
       "      <td>0.899744</td>\n",
       "      <td>1.012152</td>\n",
       "    </tr>\n",
       "    <tr>\n",
       "      <th>min</th>\n",
       "      <td>3.000000</td>\n",
       "      <td>1.000000</td>\n",
       "      <td>1.000000</td>\n",
       "      <td>1.000000</td>\n",
       "      <td>1.000000</td>\n",
       "    </tr>\n",
       "    <tr>\n",
       "      <th>25%</th>\n",
       "      <td>23.000000</td>\n",
       "      <td>1.000000</td>\n",
       "      <td>2.000000</td>\n",
       "      <td>2.000000</td>\n",
       "      <td>2.000000</td>\n",
       "    </tr>\n",
       "    <tr>\n",
       "      <th>50%</th>\n",
       "      <td>26.000000</td>\n",
       "      <td>3.000000</td>\n",
       "      <td>3.000000</td>\n",
       "      <td>3.000000</td>\n",
       "      <td>2.000000</td>\n",
       "    </tr>\n",
       "    <tr>\n",
       "      <th>75%</th>\n",
       "      <td>36.000000</td>\n",
       "      <td>3.000000</td>\n",
       "      <td>3.000000</td>\n",
       "      <td>3.000000</td>\n",
       "      <td>3.000000</td>\n",
       "    </tr>\n",
       "    <tr>\n",
       "      <th>max</th>\n",
       "      <td>67.000000</td>\n",
       "      <td>5.000000</td>\n",
       "      <td>5.000000</td>\n",
       "      <td>5.000000</td>\n",
       "      <td>5.000000</td>\n",
       "    </tr>\n",
       "  </tbody>\n",
       "</table>\n",
       "</div>"
      ],
      "text/plain": [
       "              age  Customer_Reviews_Importance  \\\n",
       "count  602.000000                   602.000000   \n",
       "mean    30.790698                     2.480066   \n",
       "std     10.193276                     1.185226   \n",
       "min      3.000000                     1.000000   \n",
       "25%     23.000000                     1.000000   \n",
       "50%     26.000000                     3.000000   \n",
       "75%     36.000000                     3.000000   \n",
       "max     67.000000                     5.000000   \n",
       "\n",
       "       Personalized_Recommendation_Frequency   Rating_Accuracy   \\\n",
       "count                              602.000000        602.000000   \n",
       "mean                                 2.699336          2.672757   \n",
       "std                                  1.042028          0.899744   \n",
       "min                                  1.000000          1.000000   \n",
       "25%                                  2.000000          2.000000   \n",
       "50%                                  3.000000          3.000000   \n",
       "75%                                  3.000000          3.000000   \n",
       "max                                  5.000000          5.000000   \n",
       "\n",
       "       Shopping_Satisfaction  \n",
       "count             602.000000  \n",
       "mean                2.463455  \n",
       "std                 1.012152  \n",
       "min                 1.000000  \n",
       "25%                 2.000000  \n",
       "50%                 2.000000  \n",
       "75%                 3.000000  \n",
       "max                 5.000000  "
      ]
     },
     "execution_count": 5,
     "metadata": {},
     "output_type": "execute_result"
    }
   ],
   "source": [
    "df.describe()"
   ]
  },
  {
   "cell_type": "code",
   "execution_count": 6,
   "metadata": {},
   "outputs": [
    {
     "name": "stdout",
     "output_type": "stream",
     "text": [
      "<class 'pandas.core.frame.DataFrame'>\n",
      "RangeIndex: 602 entries, 0 to 601\n",
      "Data columns (total 23 columns):\n",
      " #   Column                                  Non-Null Count  Dtype \n",
      "---  ------                                  --------------  ----- \n",
      " 0   Timestamp                               602 non-null    object\n",
      " 1   age                                     602 non-null    int64 \n",
      " 2   Gender                                  602 non-null    object\n",
      " 3   Purchase_Frequency                      602 non-null    object\n",
      " 4   Purchase_Categories                     602 non-null    object\n",
      " 5   Personalized_Recommendation_Frequency   602 non-null    object\n",
      " 6   Browsing_Frequency                      602 non-null    object\n",
      " 7   Product_Search_Method                   600 non-null    object\n",
      " 8   Search_Result_Exploration               602 non-null    object\n",
      " 9   Customer_Reviews_Importance             602 non-null    int64 \n",
      " 10  Add_to_Cart_Browsing                    602 non-null    object\n",
      " 11  Cart_Completion_Frequency               602 non-null    object\n",
      " 12  Cart_Abandonment_Factors                602 non-null    object\n",
      " 13  Saveforlater_Frequency                  602 non-null    object\n",
      " 14  Review_Left                             602 non-null    object\n",
      " 15  Review_Reliability                      602 non-null    object\n",
      " 16  Review_Helpfulness                      602 non-null    object\n",
      " 17  Personalized_Recommendation_Frequency   602 non-null    int64 \n",
      " 18  Recommendation_Helpfulness              602 non-null    object\n",
      " 19  Rating_Accuracy                         602 non-null    int64 \n",
      " 20  Shopping_Satisfaction                   602 non-null    int64 \n",
      " 21  Service_Appreciation                    602 non-null    object\n",
      " 22  Improvement_Areas                       602 non-null    object\n",
      "dtypes: int64(5), object(18)\n",
      "memory usage: 108.3+ KB\n"
     ]
    }
   ],
   "source": [
    "df.info() # we can see there are 2 null counts in column Product_Search_Method."
   ]
  },
  {
   "cell_type": "code",
   "execution_count": 7,
   "metadata": {},
   "outputs": [
    {
     "data": {
      "text/plain": [
       "Timestamp                                 0\n",
       "age                                       0\n",
       "Gender                                    0\n",
       "Purchase_Frequency                        0\n",
       "Purchase_Categories                       0\n",
       "Personalized_Recommendation_Frequency     0\n",
       "Browsing_Frequency                        0\n",
       "Product_Search_Method                     2\n",
       "Search_Result_Exploration                 0\n",
       "Customer_Reviews_Importance               0\n",
       "Add_to_Cart_Browsing                      0\n",
       "Cart_Completion_Frequency                 0\n",
       "Cart_Abandonment_Factors                  0\n",
       "Saveforlater_Frequency                    0\n",
       "Review_Left                               0\n",
       "Review_Reliability                        0\n",
       "Review_Helpfulness                        0\n",
       "Personalized_Recommendation_Frequency     0\n",
       "Recommendation_Helpfulness                0\n",
       "Rating_Accuracy                           0\n",
       "Shopping_Satisfaction                     0\n",
       "Service_Appreciation                      0\n",
       "Improvement_Areas                         0\n",
       "dtype: int64"
      ]
     },
     "execution_count": 7,
     "metadata": {},
     "output_type": "execute_result"
    }
   ],
   "source": [
    "df.isnull().sum()"
   ]
  },
  {
   "cell_type": "code",
   "execution_count": 8,
   "metadata": {},
   "outputs": [],
   "source": [
    "df.dropna(axis=1,inplace=True) # clean up null values."
   ]
  },
  {
   "cell_type": "code",
   "execution_count": 9,
   "metadata": {},
   "outputs": [
    {
     "data": {
      "text/plain": [
       "Timestamp                                 0\n",
       "age                                       0\n",
       "Gender                                    0\n",
       "Purchase_Frequency                        0\n",
       "Purchase_Categories                       0\n",
       "Personalized_Recommendation_Frequency     0\n",
       "Browsing_Frequency                        0\n",
       "Search_Result_Exploration                 0\n",
       "Customer_Reviews_Importance               0\n",
       "Add_to_Cart_Browsing                      0\n",
       "Cart_Completion_Frequency                 0\n",
       "Cart_Abandonment_Factors                  0\n",
       "Saveforlater_Frequency                    0\n",
       "Review_Left                               0\n",
       "Review_Reliability                        0\n",
       "Review_Helpfulness                        0\n",
       "Personalized_Recommendation_Frequency     0\n",
       "Recommendation_Helpfulness                0\n",
       "Rating_Accuracy                           0\n",
       "Shopping_Satisfaction                     0\n",
       "Service_Appreciation                      0\n",
       "Improvement_Areas                         0\n",
       "dtype: int64"
      ]
     },
     "execution_count": 9,
     "metadata": {},
     "output_type": "execute_result"
    }
   ],
   "source": [
    "df.isnull().sum() # now we can see the null values have been cleaned."
   ]
  },
  {
   "cell_type": "code",
   "execution_count": 10,
   "metadata": {},
   "outputs": [
    {
     "data": {
      "text/plain": [
       "23    123\n",
       "34     48\n",
       "24     40\n",
       "25     36\n",
       "45     34\n",
       "21     30\n",
       "26     27\n",
       "32     19\n",
       "22     17\n",
       "27     17\n",
       "36     16\n",
       "35     15\n",
       "37     14\n",
       "46     12\n",
       "40     12\n",
       "31      9\n",
       "28      9\n",
       "29      9\n",
       "30      8\n",
       "56      8\n",
       "33      7\n",
       "18      7\n",
       "47      6\n",
       "54      6\n",
       "43      6\n",
       "50      5\n",
       "44      5\n",
       "20      5\n",
       "16      5\n",
       "38      4\n",
       "41      4\n",
       "19      4\n",
       "39      4\n",
       "17      4\n",
       "42      4\n",
       "48      3\n",
       "60      3\n",
       "67      2\n",
       "15      2\n",
       "57      2\n",
       "53      2\n",
       "64      1\n",
       "58      1\n",
       "49      1\n",
       "63      1\n",
       "52      1\n",
       "3       1\n",
       "55      1\n",
       "62      1\n",
       "12      1\n",
       "Name: age, dtype: int64"
      ]
     },
     "execution_count": 10,
     "metadata": {},
     "output_type": "execute_result"
    }
   ],
   "source": [
    "df['age'].value_counts() \n",
    "# A participant fill in an invaild value with age \"3\". But it won't have a big effect to the distribution."
   ]
  },
  {
   "cell_type": "code",
   "execution_count": 11,
   "metadata": {},
   "outputs": [
    {
     "name": "stderr",
     "output_type": "stream",
     "text": [
      "/tmp/ipykernel_81177/477604056.py:2: UserWarning: \n",
      "\n",
      "`distplot` is a deprecated function and will be removed in seaborn v0.14.0.\n",
      "\n",
      "Please adapt your code to use either `displot` (a figure-level function with\n",
      "similar flexibility) or `histplot` (an axes-level function for histograms).\n",
      "\n",
      "For a guide to updating your code to use the new functions, please see\n",
      "https://gist.github.com/mwaskom/de44147ed2974457ad6372750bbe5751\n",
      "\n",
      "  sns.distplot(df['age'],kde=True)\n"
     ]
    },
    {
     "data": {
      "text/plain": [
       "<Axes: xlabel='age', ylabel='Density'>"
      ]
     },
     "execution_count": 11,
     "metadata": {},
     "output_type": "execute_result"
    },
    {
     "data": {
      "image/png": "[encoded data removed]",
      "text/plain": [
       "<Figure size 640x480 with 1 Axes>"
      ]
     },
     "metadata": {},
     "output_type": "display_data"
    }
   ],
   "source": [
    "import seaborn as sns\n",
    "sns.distplot(df['age'],kde=True)\n",
    "# There's a peak around the age of 23-24."
   ]
  },
  {
   "cell_type": "code",
   "execution_count": 12,
   "metadata": {},
   "outputs": [
    {
     "data": {
      "text/plain": [
       "1.0078572893597086"
      ]
     },
     "execution_count": 12,
     "metadata": {},
     "output_type": "execute_result"
    }
   ],
   "source": [
    "skewness = df['age'].skew()\n",
    "skewness  # a skewness value of 1 indicates a right skew or positive skew in the distribution."
   ]
  },
  {
   "cell_type": "code",
   "execution_count": 13,
   "metadata": {},
   "outputs": [
    {
     "data": {
      "text/plain": [
       "23    123\n",
       "34     48\n",
       "24     40\n",
       "25     36\n",
       "45     34\n",
       "Name: age, dtype: int64"
      ]
     },
     "execution_count": 13,
     "metadata": {},
     "output_type": "execute_result"
    }
   ],
   "source": [
    "df['age'].value_counts().head(5) # so max age group of buying things are 23 years of age."
   ]
  },
  {
   "cell_type": "code",
   "execution_count": 14,
   "metadata": {},
   "outputs": [
    {
     "data": {
      "text/plain": [
       "Beauty and Personal Care                                          106\n",
       "Clothing and Fashion                                              106\n",
       "others                                                             48\n",
       "Beauty and Personal Care;Clothing and Fashion                      46\n",
       "Beauty and Personal Care;Clothing and Fashion;Home and Kitchen     42\n",
       "Name: Purchase_Categories, dtype: int64"
      ]
     },
     "execution_count": 14,
     "metadata": {},
     "output_type": "execute_result"
    }
   ],
   "source": [
    "df['Purchase_Categories'].value_counts().head(5)\n",
    "# top five categories being brought "
   ]
  },
  {
   "cell_type": "code",
   "execution_count": 15,
   "metadata": {},
   "outputs": [
    {
     "data": {
      "text/plain": [
       "Beauty and Personal Care                                                                     57\n",
       "Clothing and Fashion                                                                         53\n",
       "Beauty and Personal Care;Clothing and Fashion                                                28\n",
       "others                                                                                       25\n",
       "Beauty and Personal Care;Clothing and Fashion;Home and Kitchen                               17\n",
       "Clothing and Fashion;Home and Kitchen                                                        15\n",
       "Beauty and Personal Care;Home and Kitchen                                                    11\n",
       "Clothing and Fashion;others                                                                  10\n",
       "Beauty and Personal Care;Clothing and Fashion;others                                          8\n",
       "Groceries and Gourmet Food;Beauty and Personal Care;Clothing and Fashion;Home and Kitchen     7\n",
       "Name: Purchase_Categories, dtype: int64"
      ]
     },
     "execution_count": 15,
     "metadata": {},
     "output_type": "execute_result"
    }
   ],
   "source": [
    "Popular_Categories_group_25 = df[df['age']<=25]['Purchase_Categories'].value_counts().head(10)\n",
    "Popular_Categories_group_25"
   ]
  },
  {
   "cell_type": "markdown",
   "metadata": {
    "id": "QuOxr8mBARga"
   },
   "source": [
    "### Step 3:  Identify 3 research questions and perform analysis\n",
    "\n",
    "Now that you have a better understanding of the data, you will want to form a research question which is interesting to you. The research question should be broad enough to be of interest to a reader but narrow enough that the question can be answered with the data.  Some examples:\n",
    "\n",
    "* __Too Narrow:__  What is the GDP of the U.S. for 2011?  This is just asking for a fact or a single data point.  \n",
    "\n",
    "* __Too Broad:__  What is the primary reason for global poverty?  This could be a Ph.D. thesis and would still be way too broad.  What data will you use to answer this question?  Even if a single dataset offered an answer, would it be defendable given the variety of datasets out there?\n",
    "\n",
    "* __Good:__  Can you use simple sentiment analysis on comments about movies in a movie database to predict its box office earnings?  If you have, or can obtain, data on a variety of movies and you have their box office earnings, this is a question which you can potentially answer well.\n",
    "\n",
    "__Remember__, this course is for learning Python. You will not be graded on the complexity, accuracy or performance of your analytical methods. However, you are expected to use a Python library, e.g., _scikitlearn_, successfully to generate results and explain why you picked the methods you used.\n",
    "\n",
    "Some points to note :\n",
    "1. Make sure that the 3 questions are distinct in terms of the kind of insight provided. For eg. avoid having 3 questions for correlation that only differ by the fields used.\n",
    "2. You can reach out to the professor or TA to seek feedback on your questions.\n",
    "\n"
   ]
  },
  {
   "cell_type": "markdown",
   "metadata": {},
   "source": [
    "## Analyze the top 10 purchase categoreizes of group of age less or equal to 25 vs. all age groups."
   ]
  },
  {
   "cell_type": "markdown",
   "metadata": {
    "id": "9_hpx51eARga"
   },
   "source": [
    "#### A bar plot is primarily used to visually represent and compare categorical data by displaying the values associated with different categories or groups. It showcases the distribution or frequency of categorical variables along one axis, using bars whose lengths represent the values or counts of these categories."
   ]
  },
  {
   "cell_type": "code",
   "execution_count": 16,
   "metadata": {},
   "outputs": [
    {
     "data": {
      "image/png": "[encoded data removed]",
      "text/plain": [
       "<Figure size 600x200 with 1 Axes>"
      ]
     },
     "metadata": {},
     "output_type": "display_data"
    }
   ],
   "source": [
    "import matplotlib.pyplot as plt\n",
    "Popular_Categories_group_25.plot(kind='bar', figsize=(6, 2))\n",
    "plt.xlabel('Purchase Categories')\n",
    "plt.ylabel('Frequence')\n",
    "plt.title('Top 10 Purchase Categories of the group of age 25')\n",
    "plt.show()"
   ]
  },
  {
   "cell_type": "code",
   "execution_count": 17,
   "metadata": {},
   "outputs": [
    {
     "data": {
      "image/png": "[encoded data removed]",
      "text/plain": [
       "<Figure size 600x200 with 1 Axes>"
      ]
     },
     "metadata": {},
     "output_type": "display_data"
    }
   ],
   "source": [
    "df['Purchase_Categories'].value_counts().head(10).plot(kind='bar', figsize=(6, 2))\n",
    "plt.xlabel('Purchase Categories')\n",
    "plt.ylabel('Frequence')\n",
    "plt.title('Top 10 Purchase Categories of all age groups')\n",
    "plt.show()"
   ]
  },
  {
   "cell_type": "markdown",
   "metadata": {},
   "source": [
    "#### The top 2 purchase categories in two plots are the same, which are \"Beauty and Personal Care\" and \"Clothing and Fashion\"."
   ]
  },
  {
   "cell_type": "markdown",
   "metadata": {},
   "source": [
    "## Analyze the relationship between people's reliabilities on reviews to make purchase decisions and whether they find reviews helpful or not"
   ]
  },
  {
   "cell_type": "markdown",
   "metadata": {},
   "source": [
    "#### A countplot is used to display the count of observations in each category of a categorical variable. "
   ]
  },
  {
   "cell_type": "code",
   "execution_count": 18,
   "metadata": {},
   "outputs": [
    {
     "data": {
      "text/plain": [
       "Moderately      199\n",
       "Occasionally    190\n",
       "Heavily         149\n",
       "Rarely           41\n",
       "Never            23\n",
       "Name: Review_Reliability, dtype: int64"
      ]
     },
     "execution_count": 18,
     "metadata": {},
     "output_type": "execute_result"
    }
   ],
   "source": [
    "df['Review_Reliability'].value_counts()"
   ]
  },
  {
   "cell_type": "markdown",
   "metadata": {},
   "source": [
    "Most answers concentrate on the answers \"Moderately\", \"Occasionally\", and \"Heavily\". Thus, most people would refer to reviews before they make a purchase."
   ]
  },
  {
   "cell_type": "code",
   "execution_count": 19,
   "metadata": {},
   "outputs": [
    {
     "data": {
      "text/plain": [
       "<Axes: xlabel='Review_Reliability', ylabel='count'>"
      ]
     },
     "execution_count": 19,
     "metadata": {},
     "output_type": "execute_result"
    },
    {
     "data": {
      "image/png": "[encoded data removed]",
      "text/plain": [
       "<Figure size 640x480 with 1 Axes>"
      ]
     },
     "metadata": {},
     "output_type": "display_data"
    }
   ],
   "source": [
    "sns.countplot(x='Review_Reliability',data=df,hue='Review_Helpfulness')"
   ]
  },
  {
   "cell_type": "markdown",
   "metadata": {},
   "source": [
    "#### Review_Reliability = How much do you rely on product reviews when making a purchase?\n",
    "#### Review_Helpfulness = Do you find helpful information from other customers' reviews?\n",
    "\n",
    "#### Based on the graph, it appears that people who finds reviews are useful will be more likely to rely on the reviews when making purchase decisions."
   ]
  },
  {
   "cell_type": "markdown",
   "metadata": {},
   "source": [
    "##  Analyze the areas where people who are dissatisfied with their Amazon shopping experience believe Amazon needs improvement. And what aspects of Amazon's services people appreciate the most."
   ]
  },
  {
   "cell_type": "markdown",
   "metadata": {},
   "source": [
    "#### Cross-tabulation: This helps understand the frequency distribution of categories between two or more variables.\n"
   ]
  },
  {
   "cell_type": "code",
   "execution_count": 20,
   "metadata": {},
   "outputs": [
    {
     "data": {
      "text/html": [
       "<div>\n",
       "<style scoped>\n",
       "    .dataframe tbody tr th:only-of-type {\n",
       "        vertical-align: middle;\n",
       "    }\n",
       "\n",
       "    .dataframe tbody tr th {\n",
       "        vertical-align: top;\n",
       "    }\n",
       "\n",
       "    .dataframe thead th {\n",
       "        text-align: right;\n",
       "    }\n",
       "</style>\n",
       "<table border=\"1\" class=\"dataframe\">\n",
       "  <thead>\n",
       "    <tr style=\"text-align: right;\">\n",
       "      <th></th>\n",
       "      <th>Timestamp</th>\n",
       "      <th>age</th>\n",
       "      <th>Gender</th>\n",
       "      <th>Purchase_Frequency</th>\n",
       "      <th>Purchase_Categories</th>\n",
       "      <th>Personalized_Recommendation_Frequency</th>\n",
       "      <th>Browsing_Frequency</th>\n",
       "      <th>Search_Result_Exploration</th>\n",
       "      <th>Customer_Reviews_Importance</th>\n",
       "      <th>Add_to_Cart_Browsing</th>\n",
       "      <th>...</th>\n",
       "      <th>Saveforlater_Frequency</th>\n",
       "      <th>Review_Left</th>\n",
       "      <th>Review_Reliability</th>\n",
       "      <th>Review_Helpfulness</th>\n",
       "      <th>Personalized_Recommendation_Frequency</th>\n",
       "      <th>Recommendation_Helpfulness</th>\n",
       "      <th>Rating_Accuracy</th>\n",
       "      <th>Shopping_Satisfaction</th>\n",
       "      <th>Service_Appreciation</th>\n",
       "      <th>Improvement_Areas</th>\n",
       "    </tr>\n",
       "  </thead>\n",
       "  <tbody>\n",
       "    <tr>\n",
       "      <th>0</th>\n",
       "      <td>2023/06/04 1:28:19 PM GMT+5:30</td>\n",
       "      <td>23</td>\n",
       "      <td>Female</td>\n",
       "      <td>Few times a month</td>\n",
       "      <td>Beauty and Personal Care</td>\n",
       "      <td>Yes</td>\n",
       "      <td>Few times a week</td>\n",
       "      <td>Multiple pages</td>\n",
       "      <td>1</td>\n",
       "      <td>Yes</td>\n",
       "      <td>...</td>\n",
       "      <td>Sometimes</td>\n",
       "      <td>Yes</td>\n",
       "      <td>Occasionally</td>\n",
       "      <td>Yes</td>\n",
       "      <td>2</td>\n",
       "      <td>Yes</td>\n",
       "      <td>1</td>\n",
       "      <td>1</td>\n",
       "      <td>Competitive prices</td>\n",
       "      <td>Reducing packaging waste</td>\n",
       "    </tr>\n",
       "    <tr>\n",
       "      <th>1</th>\n",
       "      <td>2023/06/04 2:30:44 PM GMT+5:30</td>\n",
       "      <td>23</td>\n",
       "      <td>Female</td>\n",
       "      <td>Once a month</td>\n",
       "      <td>Clothing and Fashion</td>\n",
       "      <td>Yes</td>\n",
       "      <td>Few times a month</td>\n",
       "      <td>Multiple pages</td>\n",
       "      <td>1</td>\n",
       "      <td>Yes</td>\n",
       "      <td>...</td>\n",
       "      <td>Rarely</td>\n",
       "      <td>No</td>\n",
       "      <td>Heavily</td>\n",
       "      <td>Yes</td>\n",
       "      <td>2</td>\n",
       "      <td>Sometimes</td>\n",
       "      <td>3</td>\n",
       "      <td>2</td>\n",
       "      <td>Wide product selection</td>\n",
       "      <td>Reducing packaging waste</td>\n",
       "    </tr>\n",
       "    <tr>\n",
       "      <th>4</th>\n",
       "      <td>2023/06/04 5:28:06 PM GMT+5:30</td>\n",
       "      <td>22</td>\n",
       "      <td>Female</td>\n",
       "      <td>Less than once a month</td>\n",
       "      <td>Beauty and Personal Care;Clothing and Fashion</td>\n",
       "      <td>Yes</td>\n",
       "      <td>Few times a month</td>\n",
       "      <td>Multiple pages</td>\n",
       "      <td>1</td>\n",
       "      <td>Yes</td>\n",
       "      <td>...</td>\n",
       "      <td>Rarely</td>\n",
       "      <td>No</td>\n",
       "      <td>Heavily</td>\n",
       "      <td>Yes</td>\n",
       "      <td>4</td>\n",
       "      <td>Yes</td>\n",
       "      <td>2</td>\n",
       "      <td>2</td>\n",
       "      <td>Competitive prices</td>\n",
       "      <td>Product quality and accuracy</td>\n",
       "    </tr>\n",
       "    <tr>\n",
       "      <th>5</th>\n",
       "      <td>2023/06/04 6:01:59 PM GMT+5:30</td>\n",
       "      <td>21</td>\n",
       "      <td>Female</td>\n",
       "      <td>Less than once a month</td>\n",
       "      <td>Clothing and Fashion</td>\n",
       "      <td>No</td>\n",
       "      <td>Rarely</td>\n",
       "      <td>Multiple pages</td>\n",
       "      <td>1</td>\n",
       "      <td>Yes</td>\n",
       "      <td>...</td>\n",
       "      <td>Never</td>\n",
       "      <td>No</td>\n",
       "      <td>Heavily</td>\n",
       "      <td>Yes</td>\n",
       "      <td>5</td>\n",
       "      <td>No</td>\n",
       "      <td>5</td>\n",
       "      <td>2</td>\n",
       "      <td>Wide product selection</td>\n",
       "      <td>Product quality and accuracy</td>\n",
       "    </tr>\n",
       "    <tr>\n",
       "      <th>8</th>\n",
       "      <td>2023/06/04 7:23:21 PM GMT+5:30</td>\n",
       "      <td>20</td>\n",
       "      <td>Female</td>\n",
       "      <td>Less than once a month</td>\n",
       "      <td>Beauty and Personal Care;Clothing and Fashion</td>\n",
       "      <td>Sometimes</td>\n",
       "      <td>Few times a month</td>\n",
       "      <td>First page</td>\n",
       "      <td>1</td>\n",
       "      <td>Yes</td>\n",
       "      <td>...</td>\n",
       "      <td>Often</td>\n",
       "      <td>No</td>\n",
       "      <td>Moderately</td>\n",
       "      <td>Yes</td>\n",
       "      <td>2</td>\n",
       "      <td>Yes</td>\n",
       "      <td>2</td>\n",
       "      <td>2</td>\n",
       "      <td>Wide product selection</td>\n",
       "      <td>Reducing packaging waste</td>\n",
       "    </tr>\n",
       "    <tr>\n",
       "      <th>...</th>\n",
       "      <td>...</td>\n",
       "      <td>...</td>\n",
       "      <td>...</td>\n",
       "      <td>...</td>\n",
       "      <td>...</td>\n",
       "      <td>...</td>\n",
       "      <td>...</td>\n",
       "      <td>...</td>\n",
       "      <td>...</td>\n",
       "      <td>...</td>\n",
       "      <td>...</td>\n",
       "      <td>...</td>\n",
       "      <td>...</td>\n",
       "      <td>...</td>\n",
       "      <td>...</td>\n",
       "      <td>...</td>\n",
       "      <td>...</td>\n",
       "      <td>...</td>\n",
       "      <td>...</td>\n",
       "      <td>...</td>\n",
       "      <td>...</td>\n",
       "    </tr>\n",
       "    <tr>\n",
       "      <th>562</th>\n",
       "      <td>2023/06/11 11:27:25 PM GMT+5:30</td>\n",
       "      <td>21</td>\n",
       "      <td>Male</td>\n",
       "      <td>Once a week</td>\n",
       "      <td>Clothing and Fashion</td>\n",
       "      <td>Sometimes</td>\n",
       "      <td>Few times a week</td>\n",
       "      <td>Multiple pages</td>\n",
       "      <td>1</td>\n",
       "      <td>Maybe</td>\n",
       "      <td>...</td>\n",
       "      <td>Sometimes</td>\n",
       "      <td>No</td>\n",
       "      <td>Occasionally</td>\n",
       "      <td>Sometimes</td>\n",
       "      <td>4</td>\n",
       "      <td>Sometimes</td>\n",
       "      <td>3</td>\n",
       "      <td>2</td>\n",
       "      <td>Competitive prices</td>\n",
       "      <td>Customer service responsiveness</td>\n",
       "    </tr>\n",
       "    <tr>\n",
       "      <th>564</th>\n",
       "      <td>2023/06/11 11:28:26 PM GMT+5:30</td>\n",
       "      <td>34</td>\n",
       "      <td>Female</td>\n",
       "      <td>Once a week</td>\n",
       "      <td>Groceries and Gourmet Food;Clothing and Fashion</td>\n",
       "      <td>No</td>\n",
       "      <td>Multiple times a day</td>\n",
       "      <td>Multiple pages</td>\n",
       "      <td>5</td>\n",
       "      <td>No</td>\n",
       "      <td>...</td>\n",
       "      <td>Sometimes</td>\n",
       "      <td>No</td>\n",
       "      <td>Never</td>\n",
       "      <td>Yes</td>\n",
       "      <td>2</td>\n",
       "      <td>No</td>\n",
       "      <td>3</td>\n",
       "      <td>2</td>\n",
       "      <td>User-friendly website/app interface</td>\n",
       "      <td>Product quality and accuracy</td>\n",
       "    </tr>\n",
       "    <tr>\n",
       "      <th>580</th>\n",
       "      <td>2023/06/12 3:40:25 PM GMT+5:30</td>\n",
       "      <td>45</td>\n",
       "      <td>Female</td>\n",
       "      <td>Multiple times a week</td>\n",
       "      <td>Beauty and Personal Care</td>\n",
       "      <td>Yes</td>\n",
       "      <td>Few times a week</td>\n",
       "      <td>Multiple pages</td>\n",
       "      <td>3</td>\n",
       "      <td>Maybe</td>\n",
       "      <td>...</td>\n",
       "      <td>Sometimes</td>\n",
       "      <td>Yes</td>\n",
       "      <td>Moderately</td>\n",
       "      <td>Sometimes</td>\n",
       "      <td>3</td>\n",
       "      <td>Yes</td>\n",
       "      <td>3</td>\n",
       "      <td>2</td>\n",
       "      <td>Competitive prices</td>\n",
       "      <td>Customer service responsiveness</td>\n",
       "    </tr>\n",
       "    <tr>\n",
       "      <th>586</th>\n",
       "      <td>2023/06/12 3:49:27 PM GMT+5:30</td>\n",
       "      <td>25</td>\n",
       "      <td>Male</td>\n",
       "      <td>Multiple times a week</td>\n",
       "      <td>Beauty and Personal Care</td>\n",
       "      <td>Sometimes</td>\n",
       "      <td>Few times a week</td>\n",
       "      <td>Multiple pages</td>\n",
       "      <td>2</td>\n",
       "      <td>Yes</td>\n",
       "      <td>...</td>\n",
       "      <td>Always</td>\n",
       "      <td>Yes</td>\n",
       "      <td>Moderately</td>\n",
       "      <td>Sometimes</td>\n",
       "      <td>3</td>\n",
       "      <td>Sometimes</td>\n",
       "      <td>3</td>\n",
       "      <td>2</td>\n",
       "      <td>Product recommendations</td>\n",
       "      <td>Product quality and accuracy</td>\n",
       "    </tr>\n",
       "    <tr>\n",
       "      <th>600</th>\n",
       "      <td>2023/06/12 9:57:20 PM GMT+5:30</td>\n",
       "      <td>23</td>\n",
       "      <td>Female</td>\n",
       "      <td>Few times a month</td>\n",
       "      <td>Beauty and Personal Care;Clothing and Fashion;...</td>\n",
       "      <td>Yes</td>\n",
       "      <td>Few times a month</td>\n",
       "      <td>Multiple pages</td>\n",
       "      <td>1</td>\n",
       "      <td>Yes</td>\n",
       "      <td>...</td>\n",
       "      <td>Sometimes</td>\n",
       "      <td>No</td>\n",
       "      <td>Heavily</td>\n",
       "      <td>Yes</td>\n",
       "      <td>2</td>\n",
       "      <td>Yes</td>\n",
       "      <td>2</td>\n",
       "      <td>2</td>\n",
       "      <td>Wide product selection</td>\n",
       "      <td>Product quality and accuracy</td>\n",
       "    </tr>\n",
       "  </tbody>\n",
       "</table>\n",
       "<p>309 rows × 22 columns</p>\n",
       "</div>"
      ],
      "text/plain": [
       "                           Timestamp  age  Gender      Purchase_Frequency  \\\n",
       "0     2023/06/04 1:28:19 PM GMT+5:30   23  Female       Few times a month   \n",
       "1     2023/06/04 2:30:44 PM GMT+5:30   23  Female            Once a month   \n",
       "4     2023/06/04 5:28:06 PM GMT+5:30   22  Female  Less than once a month   \n",
       "5     2023/06/04 6:01:59 PM GMT+5:30   21  Female  Less than once a month   \n",
       "8     2023/06/04 7:23:21 PM GMT+5:30   20  Female  Less than once a month   \n",
       "..                               ...  ...     ...                     ...   \n",
       "562  2023/06/11 11:27:25 PM GMT+5:30   21    Male             Once a week   \n",
       "564  2023/06/11 11:28:26 PM GMT+5:30   34  Female             Once a week   \n",
       "580   2023/06/12 3:40:25 PM GMT+5:30   45  Female   Multiple times a week   \n",
       "586   2023/06/12 3:49:27 PM GMT+5:30   25    Male   Multiple times a week   \n",
       "600   2023/06/12 9:57:20 PM GMT+5:30   23  Female       Few times a month   \n",
       "\n",
       "                                   Purchase_Categories  \\\n",
       "0                             Beauty and Personal Care   \n",
       "1                                 Clothing and Fashion   \n",
       "4        Beauty and Personal Care;Clothing and Fashion   \n",
       "5                                 Clothing and Fashion   \n",
       "8        Beauty and Personal Care;Clothing and Fashion   \n",
       "..                                                 ...   \n",
       "562                               Clothing and Fashion   \n",
       "564    Groceries and Gourmet Food;Clothing and Fashion   \n",
       "580                           Beauty and Personal Care   \n",
       "586                           Beauty and Personal Care   \n",
       "600  Beauty and Personal Care;Clothing and Fashion;...   \n",
       "\n",
       "    Personalized_Recommendation_Frequency    Browsing_Frequency  \\\n",
       "0                                     Yes      Few times a week   \n",
       "1                                     Yes     Few times a month   \n",
       "4                                     Yes     Few times a month   \n",
       "5                                      No                Rarely   \n",
       "8                               Sometimes     Few times a month   \n",
       "..                                    ...                   ...   \n",
       "562                             Sometimes      Few times a week   \n",
       "564                                    No  Multiple times a day   \n",
       "580                                   Yes      Few times a week   \n",
       "586                             Sometimes      Few times a week   \n",
       "600                                   Yes     Few times a month   \n",
       "\n",
       "    Search_Result_Exploration  Customer_Reviews_Importance  \\\n",
       "0              Multiple pages                            1   \n",
       "1              Multiple pages                            1   \n",
       "4              Multiple pages                            1   \n",
       "5              Multiple pages                            1   \n",
       "8                  First page                            1   \n",
       "..                        ...                          ...   \n",
       "562            Multiple pages                            1   \n",
       "564            Multiple pages                            5   \n",
       "580            Multiple pages                            3   \n",
       "586            Multiple pages                            2   \n",
       "600            Multiple pages                            1   \n",
       "\n",
       "    Add_to_Cart_Browsing  ... Saveforlater_Frequency Review_Left  \\\n",
       "0                    Yes  ...              Sometimes         Yes   \n",
       "1                    Yes  ...                 Rarely          No   \n",
       "4                    Yes  ...                 Rarely          No   \n",
       "5                    Yes  ...                  Never          No   \n",
       "8                    Yes  ...                  Often          No   \n",
       "..                   ...  ...                    ...         ...   \n",
       "562                Maybe  ...              Sometimes          No   \n",
       "564                   No  ...              Sometimes          No   \n",
       "580                Maybe  ...              Sometimes         Yes   \n",
       "586                  Yes  ...                 Always         Yes   \n",
       "600                  Yes  ...              Sometimes          No   \n",
       "\n",
       "    Review_Reliability Review_Helpfulness  \\\n",
       "0         Occasionally                Yes   \n",
       "1              Heavily                Yes   \n",
       "4              Heavily                Yes   \n",
       "5              Heavily                Yes   \n",
       "8           Moderately                Yes   \n",
       "..                 ...                ...   \n",
       "562       Occasionally          Sometimes   \n",
       "564              Never                Yes   \n",
       "580         Moderately          Sometimes   \n",
       "586         Moderately          Sometimes   \n",
       "600            Heavily                Yes   \n",
       "\n",
       "    Personalized_Recommendation_Frequency  Recommendation_Helpfulness  \\\n",
       "0                                        2                        Yes   \n",
       "1                                        2                  Sometimes   \n",
       "4                                        4                        Yes   \n",
       "5                                        5                         No   \n",
       "8                                        2                        Yes   \n",
       "..                                     ...                        ...   \n",
       "562                                      4                  Sometimes   \n",
       "564                                      2                         No   \n",
       "580                                      3                        Yes   \n",
       "586                                      3                  Sometimes   \n",
       "600                                      2                        Yes   \n",
       "\n",
       "     Rating_Accuracy  Shopping_Satisfaction  \\\n",
       "0                   1                     1   \n",
       "1                   3                     2   \n",
       "4                   2                     2   \n",
       "5                   5                     2   \n",
       "8                   2                     2   \n",
       "..                ...                   ...   \n",
       "562                 3                     2   \n",
       "564                 3                     2   \n",
       "580                 3                     2   \n",
       "586                 3                     2   \n",
       "600                 2                     2   \n",
       "\n",
       "                    Service_Appreciation                Improvement_Areas  \n",
       "0                     Competitive prices         Reducing packaging waste  \n",
       "1                 Wide product selection         Reducing packaging waste  \n",
       "4                     Competitive prices     Product quality and accuracy  \n",
       "5                 Wide product selection     Product quality and accuracy  \n",
       "8                 Wide product selection         Reducing packaging waste  \n",
       "..                                   ...                              ...  \n",
       "562                   Competitive prices  Customer service responsiveness  \n",
       "564  User-friendly website/app interface     Product quality and accuracy  \n",
       "580                   Competitive prices  Customer service responsiveness  \n",
       "586              Product recommendations     Product quality and accuracy  \n",
       "600               Wide product selection     Product quality and accuracy  \n",
       "\n",
       "[309 rows x 22 columns]"
      ]
     },
     "execution_count": 20,
     "metadata": {},
     "output_type": "execute_result"
    }
   ],
   "source": [
    "filtered_data = df[df['Shopping_Satisfaction'] < 3]\n",
    "filtered_data"
   ]
  },
  {
   "cell_type": "code",
   "execution_count": 21,
   "metadata": {},
   "outputs": [
    {
     "data": {
      "text/html": [
       "<div>\n",
       "<style scoped>\n",
       "    .dataframe tbody tr th:only-of-type {\n",
       "        vertical-align: middle;\n",
       "    }\n",
       "\n",
       "    .dataframe tbody tr th {\n",
       "        vertical-align: top;\n",
       "    }\n",
       "\n",
       "    .dataframe thead th {\n",
       "        text-align: right;\n",
       "    }\n",
       "</style>\n",
       "<table border=\"1\" class=\"dataframe\">\n",
       "  <thead>\n",
       "    <tr style=\"text-align: right;\">\n",
       "      <th>Improvement_Areas</th>\n",
       "      <th>Add more familiar brands to the list</th>\n",
       "      <th>Customer service responsiveness</th>\n",
       "      <th>I don't have any problem with Amazon</th>\n",
       "      <th>I have no problem with Amazon yet. But others tell me about the refund issues</th>\n",
       "      <th>No problems with Amazon</th>\n",
       "      <th>Nothing</th>\n",
       "      <th>Product quality and accuracy</th>\n",
       "      <th>Reducing packaging waste</th>\n",
       "      <th>Scrolling option would be much better than going to next page</th>\n",
       "      <th>Shipping speed and reliability</th>\n",
       "      <th>User interface of app</th>\n",
       "    </tr>\n",
       "    <tr>\n",
       "      <th>Shopping_Satisfaction</th>\n",
       "      <th></th>\n",
       "      <th></th>\n",
       "      <th></th>\n",
       "      <th></th>\n",
       "      <th></th>\n",
       "      <th></th>\n",
       "      <th></th>\n",
       "      <th></th>\n",
       "      <th></th>\n",
       "      <th></th>\n",
       "      <th></th>\n",
       "    </tr>\n",
       "  </thead>\n",
       "  <tbody>\n",
       "    <tr>\n",
       "      <th>1</th>\n",
       "      <td>0</td>\n",
       "      <td>41</td>\n",
       "      <td>0</td>\n",
       "      <td>0</td>\n",
       "      <td>1</td>\n",
       "      <td>1</td>\n",
       "      <td>26</td>\n",
       "      <td>27</td>\n",
       "      <td>0</td>\n",
       "      <td>19</td>\n",
       "      <td>0</td>\n",
       "    </tr>\n",
       "    <tr>\n",
       "      <th>2</th>\n",
       "      <td>1</td>\n",
       "      <td>58</td>\n",
       "      <td>1</td>\n",
       "      <td>1</td>\n",
       "      <td>0</td>\n",
       "      <td>0</td>\n",
       "      <td>66</td>\n",
       "      <td>36</td>\n",
       "      <td>1</td>\n",
       "      <td>29</td>\n",
       "      <td>1</td>\n",
       "    </tr>\n",
       "  </tbody>\n",
       "</table>\n",
       "</div>"
      ],
      "text/plain": [
       "Improvement_Areas      Add more familiar brands to the list  \\\n",
       "Shopping_Satisfaction                                         \n",
       "1                                                         0   \n",
       "2                                                         1   \n",
       "\n",
       "Improvement_Areas      Customer service responsiveness  \\\n",
       "Shopping_Satisfaction                                    \n",
       "1                                                   41   \n",
       "2                                                   58   \n",
       "\n",
       "Improvement_Areas      I don't have any problem with Amazon  \\\n",
       "Shopping_Satisfaction                                         \n",
       "1                                                         0   \n",
       "2                                                         1   \n",
       "\n",
       "Improvement_Areas      I have no problem with Amazon yet. But others tell me about the refund issues   \\\n",
       "Shopping_Satisfaction                                                                                   \n",
       "1                                                                      0                                \n",
       "2                                                                      1                                \n",
       "\n",
       "Improvement_Areas      No problems with Amazon  Nothing  \\\n",
       "Shopping_Satisfaction                                     \n",
       "1                                            1        1   \n",
       "2                                            0        0   \n",
       "\n",
       "Improvement_Areas      Product quality and accuracy  Reducing packaging waste  \\\n",
       "Shopping_Satisfaction                                                           \n",
       "1                                                26                        27   \n",
       "2                                                66                        36   \n",
       "\n",
       "Improvement_Areas      Scrolling option would be much better than going to next page  \\\n",
       "Shopping_Satisfaction                                                                  \n",
       "1                                                                      0               \n",
       "2                                                                      1               \n",
       "\n",
       "Improvement_Areas      Shipping speed and reliability  User interface of app  \n",
       "Shopping_Satisfaction                                                         \n",
       "1                                                  19                      0  \n",
       "2                                                  29                      1  "
      ]
     },
     "execution_count": 21,
     "metadata": {},
     "output_type": "execute_result"
    }
   ],
   "source": [
    "cross_tab = pd.crosstab(filtered_data['Shopping_Satisfaction'], df['Improvement_Areas'])\n",
    "cross_tab"
   ]
  },
  {
   "cell_type": "markdown",
   "metadata": {},
   "source": [
    "#### Based on the table, it indicates that the reasons people who are not satisfied with shopping experience on Amazon are aim to four aspects, including customer service, product quality, packing waste, and shipping."
   ]
  },
  {
   "cell_type": "code",
   "execution_count": 22,
   "metadata": {},
   "outputs": [
    {
     "data": {
      "image/png": "[encoded data removed]",
      "text/plain": [
       "<Figure size 600x200 with 1 Axes>"
      ]
     },
     "metadata": {},
     "output_type": "display_data"
    }
   ],
   "source": [
    "Top_3_Service_Appreciation = df['Service_Appreciation'].value_counts().head(3)\n",
    "Top_3_Service_Appreciation.plot(kind='bar', figsize=(6, 2))\n",
    "plt.xlabel('Service')\n",
    "plt.ylabel('Frequence')\n",
    "plt.title('Top 3 Service Appreciation')\n",
    "plt.show()"
   ]
  },
  {
   "cell_type": "markdown",
   "metadata": {},
   "source": [
    "Based on the graph, the top 3 customer favorite services are product recommendations, competitive prices and wide product selection."
   ]
  },
  {
   "cell_type": "markdown",
   "metadata": {
    "id": "QI5laAqhARga"
   },
   "source": [
    "### Step 4:  Present your findings\n",
    "\n",
    "In this step, you can begin to report your findings.  What did you learn from the data and how do your findings help answer your research question?\n",
    "\n",
    "This includes following all best practices for presenting your findings that you learnt during the mini-project. The report should be easy to read and inmportant points and explanations clearly highlighted.\n",
    "\n",
    "__Remember:__ Rarely will a single data analysis conclusively answer a research question.  Here, you need to identify possible limitations.  For example, are your results limited to a certain area, city, or country?  Are you making assumptions about the data which may, or may not, be valid (e.g., that students in one term are equally qualified as students in another)?  Document these limitations in a few paragraphs.\n"
   ]
  },
  {
   "cell_type": "markdown",
   "metadata": {
    "id": "1lvvvIilARga"
   },
   "source": [
    "The analysis uncovered several noteworthy insights regarding customer behavior and sentiments within the Amazon shopping sphere. Notably, the top purchase categories, \"Beauty and Personal Care\" and \"Clothing and Fashion,\" emerged consistently across all age groups, indicating a universal interest in these sectors. Additionally, a strong link was observed between the perceived usefulness of reviews and their impact on purchase decisions. Customers who found reviews helpful appeared more inclined to rely on them, underscoring the importance of review utility in influencing consumer choices. Moreover, dissatisfied customers highlighted key areas for improvement, including customer service, product quality, packing waste, and shipping efficiency. Finally, the most appreciated Amazon services, such as personalized product recommendations, competitive pricing, and a diverse product selection, stood out as pivotal factors contributing to overall customer satisfaction. These findings collectively offer valuable insights into consumer behavior, preferences, and areas necessitating attention for enhancing the Amazon shopping experience.\n",
    "\n",
    "The analysis, while comprehensive, bears certain limitations that merit acknowledgment. Firstly, the dataset's scope and source could potentially limit the generalizability of findings. If the data predominantly represents a specific geographical region or demographic, it might not encapsulate the diverse nuances of customer behaviors and preferences across various regions or cultures. Additionally, the survey might capture opinions of users from a specific locale, influencing the applicability of the findings on a global scale.\n",
    "\n",
    "Moreover, while attempting to discern patterns and relationships, inherent assumptions in the data analysis process could introduce biases or inaccuracies. For instance, assuming equal weightage or relevance for reviews across all product categories or age groups might oversimplify the actual variations in consumer behaviors and preferences. Similarly, the dataset might not encapsulate the entirety of Amazon's customer base, potentially missing out on crucial demographic segments or behaviors.\n",
    "\n",
    "Furthermore, the dataset's temporal relevance and the dynamic nature of the Amazon platform might pose limitations. The analysis might not reflect the most recent trends or changes in customer behaviors, as consumer preferences tend to evolve over time. This lack of real-time updates could restrict the current applicability of the findings.\n",
    "\n",
    "Overall, while the analysis provides valuable insights, these limitations underscore the need for caution in extrapolating the findings universally. They emphasize the importance of corroborating these insights with additional studies or more comprehensive datasets to ensure a more holistic understanding of customer behaviors in the Amazon shopping ecosystem.\n",
    "\n"
   ]
  },
  {
   "cell_type": "markdown",
   "metadata": {
    "id": "wD3F8_-X5kbu"
   },
   "source": [
    "# 2. Video\n",
    "\n",
    "Make a video where you go over each part of the report speaking about the steps you undertook and explaining your work, reasonings, insights and highlighting the important points of the project. You do not need to explain the lines of code (unless you feel it is required).\n",
    "\n",
    "1. The video should be more than 5 minutes and strictly less than 10 minutes.\n",
    "2. Both audio and video is required.\n",
    "3. You can use the zoom to record the video. Start a meeting, start video, start recording and share screen.\n",
    "4. Make sure your audio is clear before uploading the video to the gradescope.\n"
   ]
  },
  {
   "cell_type": "code",
   "execution_count": null,
   "metadata": {
    "id": "y8Z_G87A7AXI"
   },
   "outputs": [],
   "source": []
  }
 ],
 "metadata": {
  "anaconda-cloud": {},
  "colab": {
   "provenance": []
  },
  "kernelspec": {
   "display_name": "Python 3 (ipykernel)",
   "language": "python",
   "name": "python3"
  },
  "language_info": {
   "codemirror_mode": {
    "name": "ipython",
    "version": 3
   },
   "file_extension": ".py",
   "mimetype": "text/x-python",
   "name": "python",
   "nbconvert_exporter": "python",
   "pygments_lexer": "ipython3",
   "version": "3.11.3"
  }
 },
 "nbformat": 4,
 "nbformat_minor": 1
}
